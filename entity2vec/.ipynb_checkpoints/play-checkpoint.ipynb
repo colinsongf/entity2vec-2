{
 "cells": [
  {
   "cell_type": "code",
   "execution_count": null,
   "metadata": {
    "collapsed": false,
    "deletable": true,
    "editable": true
   },
   "outputs": [
    {
     "name": "stderr",
     "output_type": "stream",
     "text": [
      "Using TensorFlow backend.\n"
     ]
    }
   ],
   "source": [
    "from __future__ import division\n",
    "import pandas as pd\n",
    "import gensim\n",
    "import gc\n",
    "import generate_model\n",
    "\n",
    "import evaluation\n",
    "from gensim.models import word2vec\n",
    "\n",
    "from concatenate_models import *\n",
    "\n",
    "file_path = \"type_sentences.txt\"\n",
    "load_file_with_types = \"~/Scaricati/file.stdout\"\n",
    "\n",
    "df = pd.read_csv(load_file_with_types, header=None, delimiter=r\"\\s+\", names = [\"Subject\", \"Property\", \"Object\", \"Bunto\"])\n",
    "df = df.drop('Property', 1)\n",
    "df = df.drop('Bunto', 1)\n",
    "\n",
    "df = df.set_index('Subject')\n",
    "\n",
    "dictionary = df['Object'].to_dict()\n",
    "\n",
    "model_e = generate_model.GenerateModel(\"../data/starting_data/entity_sentences.txt\")\n",
    "model_e = model_e.fit(\"entity_vectors\", _window=3, _size=100, _min_count=5, _sg=0)\n",
    "model_t = generate_model.GenerateModel(\"../data/starting_data/type_sentences.txt\")\n",
    "model_t = model_t.fit(\"type_vectors\", _window=2, _size=25, _min_count=5, _sg=0)\n",
    "\n",
    "print \"Concatenating Models\"\n",
    "    # Concatenate Both Models\n",
    "ct = ConcatenateEntityToType(_entity_model=model_e,\n",
    "\t\t\t\t _type_model=model_t,\n",
    "\t\t\t\t _types_file= \"../data/starting_data/entity_to_type\",\n",
    "\t\t\t\t _total_size = 125)\n",
    "model = ct.concatenate()"
   ]
  }
 ],
 "metadata": {
  "kernelspec": {
   "display_name": "Python 2",
   "language": "python",
   "name": "python2"
  },
  "language_info": {
   "codemirror_mode": {
    "name": "ipython",
    "version": 2
   },
   "file_extension": ".py",
   "mimetype": "text/x-python",
   "name": "python",
   "nbconvert_exporter": "python",
   "pygments_lexer": "ipython2",
   "version": "2.7.12"
  }
 },
 "nbformat": 4,
 "nbformat_minor": 0
}

{
 "cells": [
  {
   "cell_type": "code",
   "execution_count": 1,
   "metadata": {
    "collapsed": false,
    "deletable": true,
    "editable": true
   },
   "outputs": [
    {
     "name": "stderr",
     "output_type": "stream",
     "text": [
      "Using TensorFlow backend.\n"
     ]
    }
   ],
   "source": [
    "from __future__ import division\n",
    "import pandas as pd\n",
    "import gensim\n",
    "import gc\n",
    "import generate_model\n",
    "\n",
    "import evaluation\n",
    "from gensim.models import word2vec\n",
    "\n",
    "from concatenate_models import *\n",
    "\n",
    "file_path = \"type_sentences.txt\"\n",
    "load_file_with_types = \"~/Scaricati/file.stdout\"\n",
    "\n",
    "\n",
    "\n",
    "model_e = generate_model.GenerateModel(\"../data/starting_data/entity_sentences.txt\")\n",
    "model_e = model_e.fit(\"entity_vectors\", _window=3, _size=100, _min_count=5, _sg=0)\n",
    "model_t = generate_model.GenerateModel(\"../data/starting_data/type_sentences.txt\")\n",
    "model_t = model_t.fit(\"type_vectors\", _window=2, _size=25, _min_count=5, _sg=0)\n",
    "\n",
    "print \"Concatenating Models\"\n",
    "    # Concatenate Both Models\n",
    "ct = ConcatenateEntityToType(_entity_model=model_e,\n",
    "\t\t\t\t _type_model=model_t,\n",
    "\t\t\t\t _types_file= \"../data/starting_data/entity_to_type\",\n",
    "\t\t\t\t _total_size = 125)\n",
    "model = ct.concatenate()"
   ]
  },
  {
   "cell_type": "code",
   "execution_count": 5,
   "metadata": {
    "collapsed": false
   },
   "outputs": [],
   "source": [
    "df = pd.read_csv(\"../data/starting_data/gold_standard\", header=None, delimiter=r\"\\s+\", names = [\"First\", \"Second\", \"Third\", \"Fourth\"])"
   ]
  },
  {
   "cell_type": "code",
   "execution_count": 7,
   "metadata": {
    "collapsed": false
   },
   "outputs": [],
   "source": [
    "with open(\"../data/evaluation_results/analyzing_results\", \"w\") as f:\n",
    "    correct_type = 0\n",
    "    correct_entity = 0\n",
    "    total_number = 0\n",
    "    for index, row in df.iterrows():\n",
    "        #print row['First'], row['Second']\n",
    "        try:\n",
    "            second = row['Second'].decode('utf-8')\n",
    "            first = row['First'].decode('utf-8')\n",
    "            third = row['Third'].decode('utf-8')\n",
    "            fourth = row['Fourth'].decode('utf-8')\n",
    "            predicted = model.wv.most_similar_cosmul(positive=[second, third], negative=[first])[0][0]\n",
    "            predicted_entity = model_e.wv.most_similar_cosmul(positive=[row['Second'], row['Third']], negative=[row['First']])[0][0]\n",
    "\n",
    "            if (predicted != fourth and predicted_entity != row['Fourth']):\n",
    "                f.write(\"[BOTH WRONG] both wrong \" + first + \" \" + second + \" \" + third + \" \"\n",
    "                        + fourth + \" type: \" + predicted + \" entity: \" + predicted_entity + \"\\n\")\n",
    "            elif(predicted == fourth and predicted_entity != row['Fourth']):\n",
    "                f.write(\"[TYPE] type ok \" + first + \" \" + second + \" \" + third + \" \"\n",
    "                        + fourth + \" type: \" + predicted + \" entity: \" + predicted_entity+ \"\\n\")\n",
    "                correct_type = correct_type + 1\n",
    "            elif(predicted_entity == row['Fourth'] and predicted != fourth):\n",
    "                f.write(\"[ENTITY] entity ok \" + first + \" \" + second + \" \" + third + \" \"\n",
    "                        + fourth + \" type: \" + predicted + \" entity: \" + predicted_entity+ \"\\n\")\n",
    "                correct_entity = correct_entity + 1\n",
    "            else:\n",
    "                f.write(\"[BOTH OK] OK \" + first + \" \" + second + \" \" + third + \" \"\n",
    "                        + fourth + \" type: \" + predicted + \" entity: \" + predicted_entity+ \"\\n\")\n",
    "                correct_type = correct_type + 1\n",
    "                correct_entity = correct_entity + 1\n",
    "\n",
    "            f.flush()\n",
    "\n",
    "                #print \"uncorrect\", first, second, third, fourth, predicted\n",
    "            total_number = total_number + 1\n",
    "            if total_number%100 == 0:\n",
    "                print correct_type / total_number, correct_entity / total_number, total_number\n",
    "        except Exception as e:\n",
    "            continue\n",
    "\n",
    "print \"FINAL score type\", correct_type / total_number, \"on\", total_number\n",
    "print \"FINAL score entity\", correct_entity / total_number, \"on\", total_number"
   ]
  }
 ],
 "metadata": {
  "kernelspec": {
   "display_name": "Python 2",
   "language": "python",
   "name": "python2"
  },
  "language_info": {
   "codemirror_mode": {
    "name": "ipython",
    "version": 2.0
   },
   "file_extension": ".py",
   "mimetype": "text/x-python",
   "name": "python",
   "nbconvert_exporter": "python",
   "pygments_lexer": "ipython2",
   "version": "2.7.12"
  }
 },
 "nbformat": 4,
 "nbformat_minor": 0
}